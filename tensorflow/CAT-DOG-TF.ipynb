{
 "cells": [
  {
   "cell_type": "code",
   "execution_count": 1,
   "metadata": {
    "collapsed": true
   },
   "outputs": [],
   "source": [
    "import numpy as np\n",
    "import tensorflow as tf"
   ]
  },
  {
   "cell_type": "code",
   "execution_count": 2,
   "metadata": {},
   "outputs": [],
   "source": [
    "import matplotlib.pyplot as plt\n",
    "from glob import glob"
   ]
  },
  {
   "cell_type": "code",
   "execution_count": 3,
   "metadata": {},
   "outputs": [],
   "source": [
    "from sklearn.utils import shuffle\n",
    "from sklearn.model_selection import train_test_split"
   ]
  },
  {
   "cell_type": "code",
   "execution_count": 4,
   "metadata": {},
   "outputs": [],
   "source": [
    "import cv2"
   ]
  },
  {
   "cell_type": "raw",
   "metadata": {},
   "source": [
    "def convolution_layer(X, weights, bias, strides, padding, name):\n",
    "    with tf.name_scope(name):\n",
    "        conv = tf.nn.conv2d(X, weights, strides=strides, padding=padding)\n",
    "        conv = tf.nn.bias_add(conv, bias=bias)      \n",
    "    return conv"
   ]
  },
  {
   "cell_type": "code",
   "execution_count": 5,
   "metadata": {
    "collapsed": true
   },
   "outputs": [],
   "source": [
    "BATCH_SIZE = 32\n",
    "IMAGE_W = 32\n",
    "IMAGE_H = 32\n",
    "CHANNELS = 3\n",
    "LEARNING_RATE = 0.005\n",
    "EPOCHS = 5\n",
    "logs_path = '/tmp/catdog/'"
   ]
  },
  {
   "cell_type": "code",
   "execution_count": 6,
   "metadata": {
    "collapsed": true
   },
   "outputs": [],
   "source": [
    "def LeNet(X):\n",
    "    mu = 0\n",
    "    sigma = 0.05\n",
    "    fc_1_in = 400\n",
    "    fc_1_out = 120\n",
    "    fc_2_out = 84\n",
    "    \n",
    "    weights = {\n",
    "        'wc1': tf.Variable(tf.truncated_normal([5, 5, CHANNELS, 6], mean=mu, stddev = sigma)),\n",
    "        'wc2': tf.Variable(tf.truncated_normal([5, 5, 6, 16], mean=mu, stddev = sigma)),\n",
    "        'wfc1': tf.Variable(tf.truncated_normal([fc_1_in, fc_1_out], mean=mu, stddev = sigma)),\n",
    "        'wfc2': tf.Variable(tf.truncated_normal([fc_1_out, fc_2_out], mean=mu, stddev = sigma)),\n",
    "        'out': tf.Variable(tf.truncated_normal([fc_2_out, n_classes], mean=mu, stddev = sigma))\n",
    "    }\n",
    "    \n",
    "    bias = {\n",
    "        'bc1': tf.Variable(tf.zeros([6])),\n",
    "        'bc2': tf.Variable(tf.zeros([16])),\n",
    "        'bfc1': tf.Variable(tf.zeros([fc_1_out])),\n",
    "        'bfc2': tf.Variable(tf.zeros([fc_2_out])),\n",
    "        'out': tf.Variable(tf.zeros([n_classes]))\n",
    "    }\n",
    "    \n",
    "    # Convolutional Network 1\n",
    "    # [32, 32, 3] --> [28, 28, 6]\n",
    "    conv_1 = tf.nn.conv2d(X, weights['wc1'], strides=[1, 1, 1, 1], padding='VALID')\n",
    "    conv_1 = tf.nn.bias_add(conv_1, bias=bias['bc1'])\n",
    "    \n",
    "    # Activation Function\n",
    "    # [28, 28, 6] --> [28, 28, 6]\n",
    "    activate_2 = tf.nn.relu(conv_1)\n",
    "    \n",
    "    # pooling\n",
    "    # [28, 28, 6] --> [14, 14, 6]\n",
    "    pool_3 = tf.nn.max_pool(activate_2, ksize=[1, 2, 2, 1], strides=[1, 2, 2, 1], padding='VALID')\n",
    "    \n",
    "    # Convolutional Network 2\n",
    "    # [14, 14, 6] --> [10, 10, 6]\n",
    "    conv_4 = tf.nn.conv2d(pool_3, weights['wc2'], strides=[1, 1, 1, 1], padding='VALID')\n",
    "    conv_4 = tf.nn.bias_add(conv_4, bias=bias['bc2'])\n",
    "    \n",
    "    # Activation Function\n",
    "    # [10, 10, 6] --> [10, 10, 16]\n",
    "    activate_5 = tf.nn.relu(conv_4)\n",
    "    \n",
    "    # pooling\n",
    "    # [5, 5, 16] --> [5, 5, 16]\n",
    "    pool_6 = tf.nn.max_pool(activate_5, ksize=[1, 2, 2, 1], strides=[1, 2, 2, 1], padding='VALID')\n",
    "    \n",
    "    # Flatten\n",
    "    # [5, 5, 16] --> fc_1_in\n",
    "    flatten_7 = tf.contrib.layers.flatten(pool_6)\n",
    "    \n",
    "    # Fully connected layer 1\n",
    "    # fc_1_in --> fc_1_out\n",
    "    fc_8 = tf.add(tf.matmul(flatten_7, weights['wfc1']), bias['bfc1'])\n",
    "    \n",
    "    # Activation\n",
    "    # fc_1_out --> fc_1_out\n",
    "    activate_9 = tf.nn.relu(fc_8)\n",
    "    \n",
    "    # Dropout\n",
    "    dropout_10 = tf.nn.dropout(activate_9, keep_prob=keep_prob)\n",
    "    \n",
    "    # Fully connected layer 2\n",
    "    # fc_1_out --> fc_2_out\n",
    "    fc_11 = tf.add(tf.matmul(dropout_10, weights['wfc2']), bias['bfc2'])\n",
    "    \n",
    "    # Activation\n",
    "    # fc_2_out --> fc_2_out\n",
    "    activate_12 = tf.nn.relu(fc_11)\n",
    "    \n",
    "    # Dropout\n",
    "    dropout_13 = tf.nn.dropout(activate_12, keep_prob=keep_prob)\n",
    "    \n",
    "    # Fully connected layer 3\n",
    "    logits = tf.add(tf.matmul(dropout_13, weights['out']), bias['out'])\n",
    "    \n",
    "    return logits    "
   ]
  },
  {
   "cell_type": "code",
   "execution_count": 7,
   "metadata": {
    "collapsed": true
   },
   "outputs": [],
   "source": [
    "training_path = 'dataset/training_set/'\n",
    "# validation_path = 'dataset/test_set/'\n",
    "test_path = 'dataset/test_set/'"
   ]
  },
  {
   "cell_type": "code",
   "execution_count": 8,
   "metadata": {},
   "outputs": [
    {
     "name": "stdout",
     "output_type": "stream",
     "text": [
      "['dogs', 'cats']\n",
      "2\n"
     ]
    }
   ],
   "source": [
    "classes = [cls.split('/')[-1] for cls in glob(training_path+ '*')]\n",
    "print(classes)\n",
    "n_classes = len(classes)\n",
    "print(n_classes)"
   ]
  },
  {
   "cell_type": "code",
   "execution_count": 9,
   "metadata": {
    "scrolled": true
   },
   "outputs": [],
   "source": [
    "training_data = glob(training_path + '*/*')\n",
    "training_labels = [label_path.split('/')[-2] for label_path in training_data]\n",
    "\n",
    "test_data = glob(test_path + '*/*')\n",
    "test_labels = [label_path.split('/')[-2] for label_path in test_data]"
   ]
  },
  {
   "cell_type": "code",
   "execution_count": 10,
   "metadata": {},
   "outputs": [
    {
     "data": {
      "text/plain": [
       "['dogs',\n",
       " 'dogs',\n",
       " 'dogs',\n",
       " 'dogs',\n",
       " 'dogs',\n",
       " 'dogs',\n",
       " 'dogs',\n",
       " 'dogs',\n",
       " 'dogs',\n",
       " 'dogs']"
      ]
     },
     "execution_count": 10,
     "metadata": {},
     "output_type": "execute_result"
    }
   ],
   "source": [
    "training_labels[:10]"
   ]
  },
  {
   "cell_type": "code",
   "execution_count": 11,
   "metadata": {},
   "outputs": [
    {
     "data": {
      "text/plain": [
       "(8000, 8000, 2000, 2000)"
      ]
     },
     "execution_count": 11,
     "metadata": {},
     "output_type": "execute_result"
    }
   ],
   "source": [
    "len(training_data), len(training_labels), len(test_data), len(test_labels)"
   ]
  },
  {
   "cell_type": "raw",
   "metadata": {},
   "source": [
    "training_data = np.array(training_data)"
   ]
  },
  {
   "cell_type": "raw",
   "metadata": {},
   "source": [
    "training_data.shape"
   ]
  },
  {
   "cell_type": "code",
   "execution_count": 12,
   "metadata": {
    "collapsed": true
   },
   "outputs": [],
   "source": [
    "X_train, X_valid, Y_train, Y_valid = train_test_split(training_data, training_labels, test_size = 0.2)"
   ]
  },
  {
   "cell_type": "code",
   "execution_count": 13,
   "metadata": {},
   "outputs": [],
   "source": [
    "X_train, Y_train = shuffle(X_train, Y_train)\n",
    "X_valid, Y_valid = shuffle(X_valid, Y_valid)\n",
    "X_test, Y_test = shuffle(test_data, test_labels)"
   ]
  },
  {
   "cell_type": "code",
   "execution_count": 14,
   "metadata": {},
   "outputs": [
    {
     "data": {
      "text/plain": [
       "(2000, 2000)"
      ]
     },
     "execution_count": 14,
     "metadata": {},
     "output_type": "execute_result"
    }
   ],
   "source": [
    "len(X_test), len(Y_test)"
   ]
  },
  {
   "cell_type": "code",
   "execution_count": 15,
   "metadata": {},
   "outputs": [
    {
     "data": {
      "text/plain": [
       "(6400, 6400)"
      ]
     },
     "execution_count": 15,
     "metadata": {},
     "output_type": "execute_result"
    }
   ],
   "source": [
    "len(X_train), len(Y_train)"
   ]
  },
  {
   "cell_type": "code",
   "execution_count": 16,
   "metadata": {},
   "outputs": [
    {
     "data": {
      "text/plain": [
       "(1600, 1600)"
      ]
     },
     "execution_count": 16,
     "metadata": {},
     "output_type": "execute_result"
    }
   ],
   "source": [
    "len(X_valid), len(Y_valid)"
   ]
  },
  {
   "cell_type": "code",
   "execution_count": 17,
   "metadata": {
    "collapsed": true
   },
   "outputs": [],
   "source": [
    "#grayscale\n",
    "#To maintain the dimension of (32,32,1)\n",
    "def rgb2gray(rgb):\n",
    "    with tf.Session() as sess:\n",
    "        data = tf.image.rgb_to_grayscale(rgb)\n",
    "        data = data.eval(session=sess)\n",
    "    return data"
   ]
  },
  {
   "cell_type": "code",
   "execution_count": 18,
   "metadata": {
    "collapsed": true
   },
   "outputs": [],
   "source": [
    "def normalize(x):\n",
    "    x= x.astype(np.float32)\n",
    "    return ((x - 128)/128)"
   ]
  },
  {
   "cell_type": "code",
   "execution_count": 19,
   "metadata": {
    "collapsed": true
   },
   "outputs": [],
   "source": [
    "def pre_process(data):\n",
    "    gray_data = rgb2gray(data)\n",
    "    return normalize(gray_data)"
   ]
  },
  {
   "cell_type": "code",
   "execution_count": 20,
   "metadata": {
    "collapsed": true
   },
   "outputs": [],
   "source": [
    "% matplotlib inline\n"
   ]
  },
  {
   "cell_type": "code",
   "execution_count": 21,
   "metadata": {},
   "outputs": [
    {
     "name": "stdout",
     "output_type": "stream",
     "text": [
      "(375, 499, 3)\n"
     ]
    },
    {
     "data": {
      "text/plain": [
       "<matplotlib.image.AxesImage at 0x12416a3c8>"
      ]
     },
     "execution_count": 21,
     "metadata": {},
     "output_type": "execute_result"
    },
    {
     "data": {
      "image/png": "[encoded data removed]",
      "text/plain": [
       "<matplotlib.figure.Figure at 0x121fbd8d0>"
      ]
     },
     "metadata": {},
     "output_type": "display_data"
    }
   ],
   "source": [
    "img = cv2.imread(X_train[0])\n",
    "print(img.shape)\n",
    "plt.imshow(img)\n"
   ]
  },
  {
   "cell_type": "code",
   "execution_count": 22,
   "metadata": {},
   "outputs": [
    {
     "data": {
      "text/plain": [
       "<matplotlib.image.AxesImage at 0x124319588>"
      ]
     },
     "execution_count": 22,
     "metadata": {},
     "output_type": "execute_result"
    },
    {
     "data": {
      "image/png": "[encoded data removed]",
      "text/plain": [
       "<matplotlib.figure.Figure at 0x121fbd780>"
      ]
     },
     "metadata": {},
     "output_type": "display_data"
    }
   ],
   "source": [
    "img = cv2.resize(img, (32,32))\n",
    "plt.imshow(img)"
   ]
  },
  {
   "cell_type": "markdown",
   "metadata": {},
   "source": [
    "with tf.Session() as sess:\n",
    "    img_file = tf.read_file(training_data[0])\n",
    "    img_decoded = tf.image.decode_image(img_file)\n",
    "    img_decoded = img_decoded.eval(session=sess)\n",
    "    print(img_decoded)"
   ]
  },
  {
   "cell_type": "markdown",
   "metadata": {},
   "source": [
    "arrs = [cv2.resize(cv2.imread(X_train[i]),(32,32)) for i in range(20)]\n",
    "\n",
    "res = np.concatenate([arr[np.newaxis] for arr in arrs])\n",
    "res.shape"
   ]
  },
  {
   "cell_type": "code",
   "execution_count": 23,
   "metadata": {},
   "outputs": [
    {
     "data": {
      "text/plain": [
       "'dataset/training_set/dogs/dog.2394.jpg'"
      ]
     },
     "execution_count": 23,
     "metadata": {},
     "output_type": "execute_result"
    }
   ],
   "source": [
    "X_train[0]"
   ]
  },
  {
   "cell_type": "code",
   "execution_count": 24,
   "metadata": {},
   "outputs": [],
   "source": [
    "def file_to_tf_inputs(start, end):\n",
    "    x = [cv2.resize(cv2.imread(X_train[i]), (IMAGE_W, IMAGE_H)) for i in range(start, end)]\n",
    "    x = np.concatenate([arr[np.newaxis] for arr in x])\n",
    "#     y = [Y_train[i] for i in range(start, end)]\n",
    "    \n",
    "    y = []\n",
    "    for i in range(start, end):\n",
    "        if Y_train[i] == 'dogs':\n",
    "            y.append(1)\n",
    "        else:\n",
    "            y.append(2)\n",
    "    \n",
    "    return x, np.array(y)\n",
    "    "
   ]
  },
  {
   "cell_type": "code",
   "execution_count": 44,
   "metadata": {},
   "outputs": [
    {
     "data": {
      "text/plain": [
       "(10, 32, 32, 3)"
      ]
     },
     "execution_count": 44,
     "metadata": {},
     "output_type": "execute_result"
    }
   ],
   "source": [
    "x, y = file_to_tf_inputs(0,10)\n",
    "x.shape"
   ]
  },
  {
   "cell_type": "code",
   "execution_count": 48,
   "metadata": {},
   "outputs": [
    {
     "data": {
      "text/plain": [
       "array([170, 181, 170], dtype=uint8)"
      ]
     },
     "execution_count": 48,
     "metadata": {},
     "output_type": "execute_result"
    }
   ],
   "source": [
    "x[0][0][0]"
   ]
  },
  {
   "cell_type": "code",
   "execution_count": 26,
   "metadata": {},
   "outputs": [
    {
     "data": {
      "text/plain": [
       "array([1, 2, 1, 1, 2, 2, 1, 1, 1, 2])"
      ]
     },
     "execution_count": 26,
     "metadata": {},
     "output_type": "execute_result"
    }
   ],
   "source": [
    "y"
   ]
  },
  {
   "cell_type": "code",
   "execution_count": 27,
   "metadata": {
    "collapsed": true
   },
   "outputs": [],
   "source": [
    "class image_generator(object):\n",
    "    def __init__(self, batch_size, input_data):\n",
    "        self.index = 0\n",
    "        self.batch_size = batch_size\n",
    "        self.input_data = input_data\n",
    "        self.data = 0\n",
    "    \n",
    "    def __iter__(self):\n",
    "        return self\n",
    "    \n",
    "    def __next__(self):\n",
    "        return next()\n",
    "    \n",
    "    def next(self):\n",
    "        if self.index < self.input_data:\n",
    "            x = X_train[self.index: self.index+self.batch_size]\n",
    "            self.index += self.batch_size\n",
    "            return x"
   ]
  },
  {
   "cell_type": "code",
   "execution_count": 28,
   "metadata": {},
   "outputs": [],
   "source": [
    "train_generator = image_generator(10,30)"
   ]
  },
  {
   "cell_type": "code",
   "execution_count": 29,
   "metadata": {},
   "outputs": [
    {
     "data": {
      "text/plain": [
       "['dataset/training_set/dogs/dog.2394.jpg',\n",
       " 'dataset/training_set/cats/cat.3015.jpg',\n",
       " 'dataset/training_set/dogs/dog.3398.jpg',\n",
       " 'dataset/training_set/dogs/dog.750.jpg',\n",
       " 'dataset/training_set/cats/cat.3693.jpg',\n",
       " 'dataset/training_set/cats/cat.2638.jpg',\n",
       " 'dataset/training_set/dogs/dog.2891.jpg',\n",
       " 'dataset/training_set/dogs/dog.2852.jpg',\n",
       " 'dataset/training_set/dogs/dog.2751.jpg',\n",
       " 'dataset/training_set/cats/cat.2735.jpg']"
      ]
     },
     "execution_count": 29,
     "metadata": {},
     "output_type": "execute_result"
    }
   ],
   "source": [
    "train_generator.next()"
   ]
  },
  {
   "cell_type": "code",
   "execution_count": 30,
   "metadata": {},
   "outputs": [],
   "source": [
    "# PIPELINE\n",
    "with tf.name_scope('input'):\n",
    "    X = tf.placeholder(tf.float32, (None, IMAGE_W, IMAGE_H, CHANNELS), name='X-input')\n",
    "    Y = tf.placeholder(tf.int32, (None), name='Y-input')\n",
    "keep_prob = tf.placeholder(tf.float32)\n",
    "y_true_one_hot = tf.one_hot(Y, n_classes)\n",
    "\n",
    "with tf.name_scope('LeNet'):\n",
    "    logits = LeNet(X)\n",
    "\n",
    "with tf.name_scope('softmax'):\n",
    "    softmax = tf.nn.softmax(logits=logits)\n",
    "    \n",
    "with tf.name_scope('Softmax-cross-entropy'):\n",
    "    softmax_cross_entropy = tf.nn.softmax_cross_entropy_with_logits(labels=y_true_one_hot, logits=logits)\n",
    "    cost = tf.reduce_mean(softmax_cross_entropy)\n",
    "\n",
    "with tf.name_scope('train'):\n",
    "    optimizer = tf.train.AdamOptimizer(learning_rate= LEARNING_RATE)\n",
    "    training_operation = optimizer.minimize(cost)\n",
    "\n",
    "with tf.name_scope('Accuracy'):\n",
    "    correct_prediction = tf.equal(tf.argmax(logits, 1), tf.argmax(y_true_one_hot, 1))\n",
    "    accuracy = tf.reduce_mean(tf.cast(correct_prediction, tf.float32))\n",
    "\n",
    "tf.summary.scalar('cost', cost)\n",
    "tf.summary.scalar('accuracy', accuracy)\n",
    "\n",
    "summary = tf.summary.merge_all()\n",
    "saver = tf.train.Saver()"
   ]
  },
  {
   "cell_type": "code",
   "execution_count": 31,
   "metadata": {},
   "outputs": [],
   "source": [
    "num_examples = len(X_train)"
   ]
  },
  {
   "cell_type": "code",
   "execution_count": 32,
   "metadata": {},
   "outputs": [
    {
     "data": {
      "text/plain": [
       "6400"
      ]
     },
     "execution_count": 32,
     "metadata": {},
     "output_type": "execute_result"
    }
   ],
   "source": [
    "num_examples"
   ]
  },
  {
   "cell_type": "code",
   "execution_count": 33,
   "metadata": {
    "collapsed": true
   },
   "outputs": [],
   "source": [
    "def validation_inputs():\n",
    "    x = [cv2.resize(cv2.imread(X_valid[i]), (IMAGE_W, IMAGE_H)) for i in range(len(X_valid))]\n",
    "    x = np.concatenate([arr[np.newaxis] for arr in x])\n",
    "    \n",
    "    y = []\n",
    "    for i in range(len(Y_valid)):\n",
    "        if Y_valid[i] == 'dogs':\n",
    "            y.append(1)\n",
    "        else:\n",
    "            y.append(2)\n",
    "#     y = [Y_valid[i] for i in range(len(Y_valid))]\n",
    "    \n",
    "    return x, np.array(y)"
   ]
  },
  {
   "cell_type": "code",
   "execution_count": 34,
   "metadata": {
    "collapsed": true
   },
   "outputs": [],
   "source": [
    "def test_inputs(data, label):\n",
    "    x = [cv2.resize(cv2.imread(data[i]), (IMAGE_W, IMAGE_H)) for i in range(len(data))]\n",
    "    x = np.concatenate([arr[np.newaxis] for arr in x])\n",
    "    \n",
    "    y = []\n",
    "    for i in range(len(label)):\n",
    "        if label[i] == 'dogs':\n",
    "            y.append(1)\n",
    "        else:\n",
    "            y.append(2)\n",
    "#     y = [Y_valid[i] for i in range(len(Y_valid))]\n",
    "    \n",
    "    return x, np.array(y)"
   ]
  },
  {
   "cell_type": "code",
   "execution_count": 35,
   "metadata": {},
   "outputs": [],
   "source": [
    "X_valid_np, Y_valid_np = validation_inputs()"
   ]
  },
  {
   "cell_type": "code",
   "execution_count": 36,
   "metadata": {},
   "outputs": [
    {
     "data": {
      "text/plain": [
       "((1600, 32, 32, 3), (1600,))"
      ]
     },
     "execution_count": 36,
     "metadata": {},
     "output_type": "execute_result"
    }
   ],
   "source": [
    "X_valid_np.shape,Y_valid_np.shape"
   ]
  },
  {
   "cell_type": "code",
   "execution_count": 37,
   "metadata": {},
   "outputs": [
    {
     "data": {
      "text/plain": [
       "array([2, 1, 2, 1, 2, 1, 1, 2, 1])"
      ]
     },
     "execution_count": 37,
     "metadata": {},
     "output_type": "execute_result"
    }
   ],
   "source": [
    "Y_valid_np[1:10]"
   ]
  },
  {
   "cell_type": "code",
   "execution_count": 41,
   "metadata": {},
   "outputs": [],
   "source": [
    "def train(X_train, Y_train, X_valid_np, Y_valid_np):\n",
    "    with tf.Session() as sess:\n",
    "        sess.run(tf.global_variables_initializer())\n",
    "        \n",
    "        writer = tf.summary.FileWriter(logdir=logs_path, graph=tf.get_default_graph())\n",
    "        \n",
    "        print(\"=======================================================================\")\n",
    "        print(\"\\t\\t\\t\\tTRAINING\\t\\t\\t\\t\")\n",
    "        \n",
    "        for epoch in range(EPOCHS):\n",
    "#             print(\"EPOCH: {}\".format(epoch))\n",
    "            for start in range(0, num_examples, BATCH_SIZE):\n",
    "                X_train_batch, Y_train_batch = file_to_tf_inputs(start, start+BATCH_SIZE)\n",
    "                sess.run(training_operation, feed_dict={X: X_train_batch,\n",
    "                                                        Y: Y_train_batch, \n",
    "                                                        keep_prob: 0.5 })\n",
    "            \n",
    "            gist, val_acc = sess.run([summary, accuracy], feed_dict = {X: X_valid_np, \n",
    "                                                   Y: Y_valid_np, \n",
    "                                                   keep_prob:1})\n",
    "            writer.add_summary(gist, epoch+1)\n",
    "        \n",
    "            \n",
    "            print(\"EPOCH: {} VAL ACCURACY : {}\".format(epoch, val_acc))\n",
    "            saver.save(sess, 'model-dog-cat')\n"
   ]
  },
  {
   "cell_type": "code",
   "execution_count": 42,
   "metadata": {},
   "outputs": [],
   "source": [
    "def test():\n",
    "    x_te, y_te = test_inputs(X_test, Y_test)\n",
    "    with tf.Session() as sess:\n",
    "        saver.restore(sess, tf.train.latest_checkpoint('.'))\n",
    "        test_acc = sess.run(accuracy, feed_dict = {X: x_te, Y: y_te, keep_prob:1.})\n",
    "        \n",
    "        print(\"TEST ACC : {}\".format(test_acc))"
   ]
  },
  {
   "cell_type": "code",
   "execution_count": 43,
   "metadata": {},
   "outputs": [
    {
     "name": "stdout",
     "output_type": "stream",
     "text": [
      "=======================================================================\n",
      "\t\t\t\tTRAINING\t\t\t\t\n",
      "EPOCH: 0 VAL ACCURACY : 0.5024999976158142\n",
      "EPOCH: 1 VAL ACCURACY : 0.5024999976158142\n",
      "EPOCH: 2 VAL ACCURACY : 0.4975000023841858\n",
      "EPOCH: 3 VAL ACCURACY : 0.4975000023841858\n",
      "EPOCH: 4 VAL ACCURACY : 0.4975000023841858\n"
     ]
    }
   ],
   "source": [
    "train(X_train, Y_train, X_valid_np, Y_valid_np)"
   ]
  },
  {
   "cell_type": "code",
   "execution_count": null,
   "metadata": {},
   "outputs": [],
   "source": [
    "test()"
   ]
  },
  {
   "cell_type": "code",
   "execution_count": null,
   "metadata": {
    "scrolled": true
   },
   "outputs": [],
   "source": [
    "ls"
   ]
  },
  {
   "cell_type": "code",
   "execution_count": null,
   "metadata": {
    "collapsed": true
   },
   "outputs": [],
   "source": [
    "def single_forward(index):\n",
    "    x = [cv2.resize(cv2.imread(X_test[index]), (IMAGE_W, IMAGE_H))]\n",
    "    x = np.array(x)\n",
    "    print(x.shape)\n",
    "    with tf.Session() as sess:\n",
    "        saver.restore(sess, tf.train.latest_checkpoint('.'))\n",
    "        logit = sess.run(logits, feed_dict={X:x, keep_prob : 1.0})\n",
    "        soft = sess.run(softmax,feed_dict={X:x, keep_prob : 1.})\n",
    "        top_logit = sess.run(tf.nn.top_k(tf.constant(logit),k=1))\n",
    "    print(top_logit, soft)\n",
    "    return logit,soft"
   ]
  },
  {
   "cell_type": "code",
   "execution_count": 49,
   "metadata": {
    "collapsed": true
   },
   "outputs": [],
   "source": [
    "x = cv2.resize(cv2.imread(X_test[300]), (IMAGE_W, IMAGE_H))"
   ]
  },
  {
   "cell_type": "code",
   "execution_count": 54,
   "metadata": {},
   "outputs": [
    {
     "data": {
      "text/plain": [
       "181"
      ]
     },
     "execution_count": 54,
     "metadata": {},
     "output_type": "execute_result"
    }
   ],
   "source": [
    "x[0][0][0]"
   ]
  },
  {
   "cell_type": "code",
   "execution_count": null,
   "metadata": {
    "collapsed": true
   },
   "outputs": [],
   "source": []
  },
  {
   "cell_type": "code",
   "execution_count": null,
   "metadata": {},
   "outputs": [],
   "source": [
    "plt.imshow(x)"
   ]
  },
  {
   "cell_type": "code",
   "execution_count": null,
   "metadata": {},
   "outputs": [],
   "source": [
    "single_forward(300)"
   ]
  }
 ],
 "metadata": {
  "kernelspec": {
   "display_name": "Python 3",
   "language": "python",
   "name": "python3"
  },
  "language_info": {
   "codemirror_mode": {
    "name": "ipython",
    "version": 3
   },
   "file_extension": ".py",
   "mimetype": "text/x-python",
   "name": "python",
   "nbconvert_exporter": "python",
   "pygments_lexer": "ipython3",
   "version": "3.6.2"
  }
 },
 "nbformat": 4,
 "nbformat_minor": 2
}
