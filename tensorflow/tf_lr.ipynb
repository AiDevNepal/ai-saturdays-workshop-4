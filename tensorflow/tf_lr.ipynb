{
 "cells": [
  {
   "cell_type": "code",
   "execution_count": 2,
   "metadata": {},
   "outputs": [],
   "source": [
    "import tensorflow as tf\n",
    "import matplotlib.pyplot as plt\n",
    "import numpy as np\n",
    "\n",
    "%matplotlib inline"
   ]
  },
  {
   "cell_type": "code",
   "execution_count": 5,
   "metadata": {},
   "outputs": [
    {
     "data": {
      "text/plain": [
       "[<matplotlib.lines.Line2D at 0x7f7e7fabc908>]"
      ]
     },
     "execution_count": 5,
     "metadata": {},
     "output_type": "execute_result"
    },
    {
     "data": {
      "image/png": "[encoded data removed]",
      "text/plain": [
       "<matplotlib.figure.Figure at 0x7f7e7fb18f60>"
      ]
     },
     "metadata": {},
     "output_type": "display_data"
    }
   ],
   "source": [
    "px = np.arange(-10, 10)\n",
    "m, c = 1, 2\n",
    "py = m * px + c\n",
    "plt.plot(px, py)"
   ]
  },
  {
   "cell_type": "code",
   "execution_count": 8,
   "metadata": {},
   "outputs": [
    {
     "data": {
      "text/plain": [
       "<matplotlib.collections.PathCollection at 0x7f7e7f974da0>"
      ]
     },
     "execution_count": 8,
     "metadata": {},
     "output_type": "execute_result"
    },
    {
     "data": {
      "image/png": "[encoded data removed]",
      "text/plain": [
       "<matplotlib.figure.Figure at 0x7f7e7f9f1780>"
      ]
     },
     "metadata": {},
     "output_type": "display_data"
    }
   ],
   "source": [
    "noise = np.random.random(len(px))\n",
    "pynoise = m * px + c + 10 * noise\n",
    "plt.scatter(px, pynoise)"
   ]
  },
  {
   "cell_type": "code",
   "execution_count": 39,
   "metadata": {},
   "outputs": [
    {
     "name": "stdout",
     "output_type": "stream",
     "text": [
      "Epoch Cost :: 17.831765610724688\n",
      "Epoch Cost :: 19.166817938350142\n",
      "Epoch Cost :: 15.602589854970574\n",
      "Epoch Cost :: 12.934177497960627\n",
      "Epoch Cost :: 10.932095630473487\n",
      "Epoch Cost :: 9.426297673862427\n",
      "Epoch Cost :: 8.290676261857152\n",
      "Epoch Cost :: 7.431623850017786\n",
      "Epoch Cost :: 6.77960079908371\n",
      "Epoch Cost :: 6.282881276309491\n",
      "Epoch Cost :: 5.902946350723505\n",
      "Epoch Cost :: 5.6110658895224335\n",
      "Epoch Cost :: 5.385781879129354\n",
      "Epoch Cost :: 5.211029131052783\n",
      "Epoch Cost :: 5.074761121254414\n",
      "Epoch Cost :: 4.967921983264387\n",
      "Epoch Cost :: 4.883681168699695\n",
      "Epoch Cost :: 4.816878249915317\n",
      "Epoch Cost :: 4.763595358119346\n",
      "Epoch Cost :: 4.7208520095809945\n",
      "Epoch Cost :: 4.686367331794463\n",
      "Epoch Cost :: 4.658392641670071\n",
      "Epoch Cost :: 4.635577493114397\n",
      "Epoch Cost :: 4.616876375582069\n",
      "Epoch Cost :: 4.6014736673794685\n",
      "Epoch Cost :: 4.588732518441975\n",
      "Epoch Cost :: 4.578146904800088\n",
      "Epoch Cost :: 4.569320071209222\n",
      "Epoch Cost :: 4.5619353338959625\n",
      "Epoch Cost :: 4.555734822142403\n",
      "Epoch Cost :: 4.5505170773001735\n",
      "Epoch Cost :: 4.546113425405929\n",
      "Epoch Cost :: 4.542389159486629\n",
      "Epoch Cost :: 4.539233387022091\n",
      "Epoch Cost :: 4.536554187097136\n",
      "Epoch Cost :: 4.534276493734796\n",
      "Epoch Cost :: 4.532337062728766\n",
      "Epoch Cost :: 4.530683929429506\n",
      "Epoch Cost :: 4.529273313761223\n",
      "Epoch Cost :: 4.528069418179802\n",
      "Epoch Cost :: 4.527039822048391\n",
      "Epoch Cost :: 4.526159884035588\n",
      "Epoch Cost :: 4.525405953574227\n",
      "Epoch Cost :: 4.524761278845835\n",
      "Epoch Cost :: 4.524209137773141\n",
      "Epoch Cost :: 4.523735531873536\n",
      "Epoch Cost :: 4.523329419520451\n",
      "Epoch Cost :: 4.522981774137588\n",
      "Epoch Cost :: 4.522683459171094\n",
      "Epoch Cost :: 4.522427420812892\n",
      "1.096566\n",
      "6.21425\n"
     ]
    },
    {
     "data": {
      "image/png": "[encoded data removed]",
      "text/plain": [
       "<matplotlib.figure.Figure at 0x7f7e74aa56d8>"
      ]
     },
     "metadata": {},
     "output_type": "display_data"
    }
   ],
   "source": [
    "# these are placeholder for training instances\n",
    "x = tf.placeholder(dtype=tf.float32, name='x')\n",
    "y = tf.placeholder(dtype=tf.float32, name='y')\n",
    "\n",
    "# these are to be updated by some magic function\n",
    "w = tf.Variable(dtype=tf.float32, initial_value=np.random.random()*0.01)\n",
    "b = tf.Variable(dtype=tf.float32, initial_value=0)\n",
    "\n",
    "# prediction = x * w + b\n",
    "output = tf.add(tf.multiply(x, w), b)\n",
    "\n",
    "# calculate some error shit\n",
    "cost = tf.reduce_sum( 0.5 * (y-output) ** 2 )\n",
    "\n",
    "# optmize this cost\n",
    "optimizer = tf.train.GradientDescentOptimizer(0.01).minimize(cost)\n",
    "\n",
    "with tf.Session() as sess:\n",
    "    sess.run(tf.global_variables_initializer())\n",
    "    for i in range(50):\n",
    "        epoch_cost = 0\n",
    "        for xtrain, ytrain in zip(px, pynoise):\n",
    "        #for j in range(len(pynoise)):\n",
    "            #optimizer.eval({x : px[j], y : pynoise[j]})\n",
    "            \n",
    "            opt, c = sess.run(\n",
    "                [optimizer, cost], \n",
    "                     feed_dict = {\n",
    "                         x : xtrain,\n",
    "                         y : ytrain\n",
    "                     }\n",
    "                    )\n",
    "            \n",
    "            #opt = optimizer.run({x : px[j], y : pynoise[j]})\n",
    "            #c = cost.eval({x : px[j], y : pynoise[j]})\n",
    "            epoch_cost += c\n",
    "        \n",
    "        print(\"Epoch Cost :: {}\".format(epoch_cost / len(pynoise)))\n",
    "    \n",
    "    print(w.eval())\n",
    "    print(b.eval())\n",
    "    yfit = w.eval() * px + b.eval()\n",
    "    plt.scatter(px, pynoise)\n",
    "    plt.plot(px, yfit)\n",
    "        \n",
    "    "
   ]
  },
  {
   "cell_type": "code",
   "execution_count": null,
   "metadata": {
    "collapsed": true
   },
   "outputs": [],
   "source": []
  }
 ],
 "metadata": {
  "kernelspec": {
   "display_name": "Python 3",
   "language": "python",
   "name": "python3"
  },
  "language_info": {
   "codemirror_mode": {
    "name": "ipython",
    "version": 3
   },
   "file_extension": ".py",
   "mimetype": "text/x-python",
   "name": "python",
   "nbconvert_exporter": "python",
   "pygments_lexer": "ipython3",
   "version": "3.6.3"
  }
 },
 "nbformat": 4,
 "nbformat_minor": 2
}
