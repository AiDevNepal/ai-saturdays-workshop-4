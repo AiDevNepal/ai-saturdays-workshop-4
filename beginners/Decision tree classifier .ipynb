{
 "cells": [
  {
   "cell_type": "code",
   "execution_count": 3,
   "metadata": {},
   "outputs": [],
   "source": [
    "#import all libraries \n",
    "import matplotlib.pyplot as plt\n",
    "import numpy as np\n",
    "import pandas as pd \n",
    "from sklearn import datasets\n",
    "from sklearn.tree import DecisionTreeClassifier\n",
    "\n",
    "%matplotlib inline"
   ]
  },
  {
   "cell_type": "code",
   "execution_count": 4,
   "metadata": {},
   "outputs": [],
   "source": [
    "digits = datasets.load_digits()"
   ]
  },
  {
   "cell_type": "code",
   "execution_count": 20,
   "metadata": {},
   "outputs": [],
   "source": [
    "X = digits.data #features #input\n",
    "Y = digits.target #labels #output "
   ]
  },
  {
   "cell_type": "code",
   "execution_count": 53,
   "metadata": {},
   "outputs": [
    {
     "data": {
      "text/plain": [
       "9"
      ]
     },
     "execution_count": 53,
     "metadata": {},
     "output_type": "execute_result"
    }
   ],
   "source": [
    "Y[31]"
   ]
  },
  {
   "cell_type": "code",
   "execution_count": 54,
   "metadata": {},
   "outputs": [
    {
     "data": {
      "text/plain": [
       "array([[  0.,   0.,   2.,  13.,   8.,   0.,   0.,   0.],\n",
       "       [  0.,   0.,   6.,  16.,  16.,   6.,   0.,   0.],\n",
       "       [  0.,   0.,   5.,  15.,  13.,  11.,   0.,   0.],\n",
       "       [  0.,   0.,   0.,   7.,  16.,  15.,   0.,   0.],\n",
       "       [  0.,   0.,   0.,   0.,   0.,  14.,   3.,   0.],\n",
       "       [  0.,   0.,   0.,   0.,   0.,   7.,  11.,   0.],\n",
       "       [  0.,   0.,   0.,   3.,   4.,   4.,  16.,   2.],\n",
       "       [  0.,   0.,   2.,  15.,  13.,  14.,  13.,   2.]])"
      ]
     },
     "execution_count": 54,
     "metadata": {},
     "output_type": "execute_result"
    }
   ],
   "source": [
    "X[31].reshape(8,8)"
   ]
  },
  {
   "cell_type": "code",
   "execution_count": 56,
   "metadata": {
    "scrolled": true
   },
   "outputs": [
    {
     "data": {
      "text/plain": [
       "<matplotlib.image.AxesImage at 0x7f3a6937e9b0>"
      ]
     },
     "execution_count": 56,
     "metadata": {},
     "output_type": "execute_result"
    },
    {
     "data": {
      "image/png": "[encoded data removed]",
      "text/plain": [
       "<matplotlib.figure.Figure at 0x7f3a694c2e10>"
      ]
     },
     "metadata": {},
     "output_type": "display_data"
    }
   ],
   "source": [
    "plt.imshow(X[32].reshape(8, 8), cmap=\"gray\")"
   ]
  },
  {
   "cell_type": "code",
   "execution_count": 329,
   "metadata": {},
   "outputs": [
    {
     "data": {
      "text/plain": [
       "array([[  0.,   0.,   7.,  15.,  13.,   1.,   0.,   0.],\n",
       "       [  0.,   8.,  13.,   6.,  15.,   4.,   0.,   0.],\n",
       "       [  0.,   2.,   1.,  13.,  13.,   0.,   0.,   0.],\n",
       "       [  0.,   0.,   2.,  15.,  11.,   1.,   0.,   0.],\n",
       "       [  0.,   0.,   0.,   1.,  12.,  12.,   1.,   0.],\n",
       "       [  0.,   0.,   0.,   0.,   1.,  10.,   8.,   0.],\n",
       "       [  0.,   0.,   8.,   4.,   5.,  14.,   9.,   0.],\n",
       "       [  0.,   0.,   7.,  13.,  13.,   9.,   0.,   0.]])"
      ]
     },
     "execution_count": 329,
     "metadata": {},
     "output_type": "execute_result"
    }
   ],
   "source": [
    "X[3].reshape(8,8)"
   ]
  },
  {
   "cell_type": "markdown",
   "metadata": {},
   "source": [
    "https://cdn-images-1.medium.com/max/800/1*vV-15-pGqBklfkw3Uvp_lw.png"
   ]
  },
  {
   "cell_type": "code",
   "execution_count": 58,
   "metadata": {},
   "outputs": [
    {
     "data": {
      "text/plain": [
       "DecisionTreeClassifier(class_weight=None, criterion='gini', max_depth=None,\n",
       "            max_features=None, max_leaf_nodes=None,\n",
       "            min_impurity_decrease=0.0, min_impurity_split=None,\n",
       "            min_samples_leaf=1, min_samples_split=2,\n",
       "            min_weight_fraction_leaf=0.0, presort=False, random_state=None,\n",
       "            splitter='best')"
      ]
     },
     "execution_count": 58,
     "metadata": {},
     "output_type": "execute_result"
    }
   ],
   "source": [
    "clf = DecisionTreeClassifier()\n",
    "clf.fit(X, Y)  #train model "
   ]
  },
  {
   "cell_type": "code",
   "execution_count": 63,
   "metadata": {},
   "outputs": [
    {
     "data": {
      "text/plain": [
       "<matplotlib.image.AxesImage at 0x7f3a6b597128>"
      ]
     },
     "execution_count": 63,
     "metadata": {},
     "output_type": "execute_result"
    },
    {
     "data": {
      "image/png": "[encoded data removed]",
      "text/plain": [
       "<matplotlib.figure.Figure at 0x7f3a6b7c29b0>"
      ]
     },
     "metadata": {},
     "output_type": "display_data"
    }
   ],
   "source": [
    "plt.imshow(X[2].reshape(8,8))"
   ]
  },
  {
   "cell_type": "code",
   "execution_count": 70,
   "metadata": {},
   "outputs": [
    {
     "name": "stdout",
     "output_type": "stream",
     "text": [
      "[3]\n"
     ]
    }
   ],
   "source": [
    "print(clf.predict([X[3]]))  #prediction"
   ]
  },
  {
   "cell_type": "code",
   "execution_count": 341,
   "metadata": {
    "scrolled": true
   },
   "outputs": [
    {
     "data": {
      "text/plain": [
       "array([[  0.,   0.,   9.,  14.,   8.,   1.,   0.,   0.],\n",
       "       [  0.,   0.,  12.,  14.,  14.,  12.,   0.,   0.],\n",
       "       [  0.,   0.,   9.,  10.,   0.,  15.,   4.,   0.],\n",
       "       [  0.,   0.,   3.,  16.,  12.,  14.,   2.,   0.],\n",
       "       [  0.,   0.,   4.,  16.,  16.,   2.,   0.,   0.],\n",
       "       [  0.,   3.,  16.,   8.,  10.,  13.,   2.,   0.],\n",
       "       [  0.,   1.,  15.,   1.,   3.,  16.,   8.,   0.],\n",
       "       [  0.,   0.,  11.,  16.,  15.,  11.,   1.,   0.]])"
      ]
     },
     "execution_count": 341,
     "metadata": {},
     "output_type": "execute_result"
    }
   ],
   "source": [
    "X[8].reshape(8,8)"
   ]
  },
  {
   "cell_type": "code",
   "execution_count": 73,
   "metadata": {},
   "outputs": [
    {
     "data": {
      "text/plain": [
       "'graph.pdf'"
      ]
     },
     "execution_count": 73,
     "metadata": {},
     "output_type": "execute_result"
    }
   ],
   "source": [
    "import graphviz \n",
    "from sklearn import tree\n",
    "dot_data = tree.export_graphviz(clf, out_file=None) \n",
    "graph = graphviz.Source(dot_data) \n",
    "graph.render(\"graph\") "
   ]
  },
  {
   "cell_type": "markdown",
   "metadata": {},
   "source": [
    "For decision tree graph: \n",
    "Video : https://www.youtube.com/watch?v=tNa99PG8hR8\n",
    "\n",
    "Graph : http://scikit-learn.org/stable/modules/tree.html"
   ]
  },
  {
   "cell_type": "code",
   "execution_count": 74,
   "metadata": {},
   "outputs": [
    {
     "name": "stdout",
     "output_type": "stream",
     "text": [
      "Requirement already satisfied: graphviz in /home/asish/machine-learning/lib/python3.5/site-packages\r\n"
     ]
    }
   ],
   "source": [
    "!pip install graphviz"
   ]
  },
  {
   "cell_type": "code",
   "execution_count": null,
   "metadata": {},
   "outputs": [],
   "source": []
  }
 ],
 "metadata": {
  "kernelspec": {
   "display_name": "Python 3",
   "language": "python",
   "name": "python3"
  },
  "language_info": {
   "codemirror_mode": {
    "name": "ipython",
    "version": 3
   },
   "file_extension": ".py",
   "mimetype": "text/x-python",
   "name": "python",
   "nbconvert_exporter": "python",
   "pygments_lexer": "ipython3",
   "version": "3.5.2"
  }
 },
 "nbformat": 4,
 "nbformat_minor": 2
}
